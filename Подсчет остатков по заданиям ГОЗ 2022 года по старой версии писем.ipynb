{
 "cells": [
  {
   "cell_type": "markdown",
   "id": "26cbf3ba",
   "metadata": {},
   "source": [
    "## Названия переменных с итоговыми таблицами:\n",
    "**result_tail** - таблица остатков для начальника\n",
    "\n",
    "**df_tail** - таблица остатков для корректировки\n",
    "\n",
    "**total_fin** - общая таблица финансирования по ТОВД\n",
    "\n",
    "**fin_tovd** - таблица финансирования для конкретного ТОВД\n",
    "\n",
    "**fin_oumts**- таблица финансирования по ОУМТСам"
   ]
  },
  {
   "cell_type": "markdown",
   "id": "2dd23100",
   "metadata": {},
   "source": [
    "## Подготовка к написанию\n",
    "\n",
    "**А. Вводится переменная-список *all_failes* для всех файлов-распределений;**\n",
    "\n",
    "**В. Импортируем Библиотеку Панд и НаН из Нампая на будущее;**\n",
    "\n",
    "**С. Вводится функция *cleaner*, обрабатывающая таблицу в нужный для кода формат:**\n",
    "\n",
    "*С.1.* Автоматически проставляю соответствующие задания ГОЗ в каждой строке;\n",
    "\n",
    "*С.2.* Автоматически проставляю соответствующие КБК в каждой строке;\n",
    "\n",
    "*С.3.* Превращаю КБК в object.\n",
    "\n",
    "*Добавить срез по КБК, если понадобится*"
   ]
  },
  {
   "cell_type": "code",
   "execution_count": 1,
   "id": "66da8867",
   "metadata": {},
   "outputs": [],
   "source": [
    "import pandas as pd\n",
    "from numpy import nan\n",
    "all_failes = [] #переменная для всех файлов распределений\n",
    "def cleaner(tabl):\n",
    "    tabl['Задание ГОЗ'] = tabl['Задание ГОЗ'].fillna(method='ffill')\n",
    "    tabl['КБК'] = tabl['КБК'].fillna(method='ffill')\n",
    "    tabl['КБК'] = tabl['КБК'].astype('object')\n",
    "    return tabl"
   ]
  },
  {
   "cell_type": "markdown",
   "id": "0f256b84",
   "metadata": {},
   "source": [
    "## 1. Открываем все таблицы в переменные *(НАПИСАТЬ ЦИКЛ ДЛЯ ПАПКИ)*"
   ]
  },
  {
   "cell_type": "code",
   "execution_count": 2,
   "id": "2db6ec82",
   "metadata": {
    "scrolled": true
   },
   "outputs": [],
   "source": [
    "#Временная проба пера на примере пары таблиц\n",
    "df1 = pd.read_excel('Test1.xlsx')\n",
    "df2 = pd.read_excel('Test2.xlsx')"
   ]
  },
  {
   "cell_type": "markdown",
   "id": "aecf6565",
   "metadata": {},
   "source": [
    "## 2. Обработка данных\n",
    "\n",
    "*Чистим ранее введенной функцией.*"
   ]
  },
  {
   "cell_type": "code",
   "execution_count": 3,
   "id": "5ed1ec45",
   "metadata": {},
   "outputs": [],
   "source": [
    "df1 = cleaner(df1)\n",
    "df2 = cleaner(df2)"
   ]
  },
  {
   "cell_type": "markdown",
   "id": "159ebe0a",
   "metadata": {},
   "source": [
    "### 3. Объединение всех распределений\n",
    "\n",
    "*Происходит по столбцам с заданиями ГОЗ, наименованиям закупки и КБК.* **(Нужно удалить в этом окне переменную frames. Она определена еще в первом действии)**"
   ]
  },
  {
   "cell_type": "code",
   "execution_count": 4,
   "id": "75afdf74",
   "metadata": {},
   "outputs": [],
   "source": [
    "all_failes = [df1, df2]\n",
    "cat = pd.concat(all_failes)"
   ]
  },
  {
   "cell_type": "markdown",
   "id": "aedd8535",
   "metadata": {},
   "source": [
    "## 4. Группировка объединенных таблиц\n",
    "\n",
    "*Практически готовая таблица по финансированию тер органов в переменной df_pivo.*\n",
    "\n",
    "**4.1** Осущестляется группировка по заданиям ГОЗ, КБК и наименованиям закупки в переменно дф_пиво;\n",
    "\n",
    "**4.2** Апгрейд дф_пива и добавление столбца \"распределение/отзыв\" с суммой распределений и отзывов по всем ТОВД."
   ]
  },
  {
   "cell_type": "code",
   "execution_count": 5,
   "id": "d664e06a",
   "metadata": {},
   "outputs": [],
   "source": [
    "df_pivo = cat.pivot_table(index=['Задание ГОЗ', 'Наименование закупки', 'КБК'], values=cat.columns[3:], aggfunc='sum', sort=False)\n",
    "#Это pivo для Вани\n",
    "df_pivo.loc[:, 'Распределение/отзыв'] = 0\n",
    "tovd = df_pivo.columns[:-1]\n",
    "df_pivo['Распределение/отзыв'] = df_pivo[tovd].agg('sum', axis=\"columns\")\n",
    "\n"
   ]
  },
  {
   "cell_type": "markdown",
   "id": "8c2a0d6c",
   "metadata": {},
   "source": [
    "## 5. Первые итоговые таблицы *ОСТАТКОВ*.\n",
    "\n",
    "**5.1** Создание промежуточной таблицы с движением ЛБО по наименованиям закупки и КБК в переменной df_traffic со столбцами ЛБО и Кол-во, группируем;\n",
    "\n",
    "**5.2** Открываем предварительно созданную таблицу по запланированным/откорректированным ЛБО в переменной lbo и обрабатываем функцией клинера. Группируем по заданиям ГОЗ, наименованиям закупки и КБК;\n",
    "\n",
    "**5.3** **Создание итоговой таблицы №1 для корректировок в переменной *df_tail*:**\n",
    "\n",
    "    5.3.1 Объединяем таблицу трафика и ЛБО;\n",
    "    5.3.2 Создаем функцию *tail_calc* для подсчета остатков (ЛБО-Распределения/отзывы);\n",
    "    5.3.3 Создаем столбик остатков и применяем к нему функцию *tail_calc*;\n",
    "    5.3.4 Создаем столбик с остатками исключительно по заданиям ГОЗ (без наименования закупки), заполняем его через цикл построчно.\n",
    "**5.4** **Создаем вторую итоговую таблицу №2 для начальства в переменной *result_tail*:**\n",
    "\n",
    "    5.4.1 Удаляем ненужные столбцы;\n",
    "    5.4.2 Обнуляем группировку через reset_index;\n",
    "    5.4.3 Группируем по-новому, как надо и переименовываем стобцы."
   ]
  },
  {
   "cell_type": "code",
   "execution_count": 6,
   "id": "c33bd48b",
   "metadata": {},
   "outputs": [
    {
     "name": "stderr",
     "output_type": "stream",
     "text": [
      "C:\\Users\\dtrusheva\\AppData\\Local\\Temp\\ipykernel_6020\\902448765.py:27: PerformanceWarning: indexing past lexsort depth may impact performance.\n",
      "  df_tail.loc[(group, namepurch, kbk), 'Сгруппированные остатки'] = df_tail.loc[[group], 'Остатки'].sum()\n",
      "C:\\Users\\dtrusheva\\AppData\\Local\\Temp\\ipykernel_6020\\902448765.py:27: PerformanceWarning: indexing past lexsort depth may impact performance.\n",
      "  df_tail.loc[(group, namepurch, kbk), 'Сгруппированные остатки'] = df_tail.loc[[group], 'Остатки'].sum()\n",
      "C:\\Users\\dtrusheva\\AppData\\Local\\Temp\\ipykernel_6020\\902448765.py:27: PerformanceWarning: indexing past lexsort depth may impact performance.\n",
      "  df_tail.loc[(group, namepurch, kbk), 'Сгруппированные остатки'] = df_tail.loc[[group], 'Остатки'].sum()\n",
      "C:\\Users\\dtrusheva\\AppData\\Local\\Temp\\ipykernel_6020\\902448765.py:27: PerformanceWarning: indexing past lexsort depth may impact performance.\n",
      "  df_tail.loc[(group, namepurch, kbk), 'Сгруппированные остатки'] = df_tail.loc[[group], 'Остатки'].sum()\n",
      "C:\\Users\\dtrusheva\\AppData\\Local\\Temp\\ipykernel_6020\\902448765.py:27: PerformanceWarning: indexing past lexsort depth may impact performance.\n",
      "  df_tail.loc[(group, namepurch, kbk), 'Сгруппированные остатки'] = df_tail.loc[[group], 'Остатки'].sum()\n",
      "C:\\Users\\dtrusheva\\AppData\\Local\\Temp\\ipykernel_6020\\902448765.py:39: FutureWarning: Indexing with multiple keys (implicitly converted to a tuple of keys) will be deprecated, use a list instead.\n",
      "  result_tail = result_tail.groupby(['Задание ГОЗ', 'КБК'], sort=False) ['Сгруппированные остатки', 'Остатки'].sum()\n"
     ]
    }
   ],
   "source": [
    "#1\n",
    "df_traffic = df_pivo['Распределение/отзыв'].to_frame(name='Распределение/отзыв')\n",
    "df_traffic.loc[:, \"Кол-во\"] = 0\n",
    "df_traffic.loc[:, \"ЛБО\"] = 0\n",
    "#2\n",
    "lbo = pd.read_excel('Лимиты 2023 211.xlsx')\n",
    "lbo = cleaner(lbo)\n",
    "lbo = lbo.pivot_table(index=['Задание ГОЗ', 'Наименование закупки', 'КБК'], values=lbo.columns[3:], sort=False)\n",
    "#3.1\n",
    "df_tail = pd.concat([df_traffic, lbo])\n",
    "df_tail = df_tail.pivot_table(index=['Задание ГОЗ', 'Наименование закупки', 'КБК'], values=['Распределение/отзыв', 'Кол-во', 'ЛБО'], aggfunc='sum', sort=False)\n",
    "\n",
    "#3.2\n",
    "# Функция для подсчета остатков:\n",
    "def tail_calc (row):\n",
    "    return row['ЛБО']-row['Распределение/отзыв'] \n",
    "\n",
    "#3.3\n",
    "df_tail['Остатки'] = df_tail.apply(tail_calc, axis=1)\n",
    "df_tail\n",
    "\n",
    "#3.4\n",
    "df_tail.loc[:, 'Сгруппированные остатки'] = nan\n",
    "for group in df_tail.index.get_level_values(0).unique():\n",
    "    namepurch = df_tail.loc[[group]].index[0][1]\n",
    "    kbk = df_tail.loc[[group]].index[0][2]\n",
    "    df_tail.loc[(group, namepurch, kbk), 'Сгруппированные остатки'] = df_tail.loc[[group], 'Остатки'].sum()\n",
    "\n",
    "#4.1\n",
    "result_tail = df_tail.droplevel(level=1)\n",
    "del result_tail['Кол-во']\n",
    "del result_tail['ЛБО']\n",
    "del result_tail ['Распределение/отзыв']\n",
    "\n",
    "#4.2\n",
    "result_tail = result_tail.reset_index()\n",
    "\n",
    "#4.3\n",
    "result_tail = result_tail.groupby(['Задание ГОЗ', 'КБК'], sort=False) ['Сгруппированные остатки', 'Остатки'].sum()\n",
    "result_tail = result_tail.rename (\n",
    "columns={\n",
    "    'Сгруппированные остатки':'Остатки по заданию ГОЗ',\n",
    "    'Остатки':'Остатки по КБК',\n",
    "}\n",
    ")"
   ]
  }
 ],
 "metadata": {
  "kernelspec": {
   "display_name": "Python 3 (ipykernel)",
   "language": "python",
   "name": "python3"
  },
  "language_info": {
   "codemirror_mode": {
    "name": "ipython",
    "version": 3
   },
   "file_extension": ".py",
   "mimetype": "text/x-python",
   "name": "python",
   "nbconvert_exporter": "python",
   "pygments_lexer": "ipython3",
   "version": "3.9.12"
  }
 },
 "nbformat": 4,
 "nbformat_minor": 5
}
