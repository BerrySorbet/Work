{
 "cells": [
  {
   "cell_type": "code",
   "execution_count": 76,
   "id": "21fcce0c",
   "metadata": {},
   "outputs": [],
   "source": [
    "import pandas as pd\n",
    "from numpy import nan\n",
    "import numpy as np\n",
    "from os import listdir\n",
    "from os.path import isfile, join\n",
    "from itertools import chain\n",
    "def cleaner(tabl):\n",
    "    tabl['Задание ГОЗ'] = tabl['Задание ГОЗ'].fillna(method='ffill')\n",
    "    tabl['Наименование закупки'] = tabl['Наименование закупки'].fillna(method='ffill')\n",
    "    tabl['КБК'] = tabl['КБК'].fillna(method='ffill')\n",
    "    tabl['КБК'] = tabl['КБК'].astype('object')\n",
    "    tabl = tabl.drop(index=[0,1])\n",
    "    return tabl\n",
    "def get_tovd_stats(tovds):\n",
    "    def wrapper(row):\n",
    "        tovd_stats = []\n",
    "        for tovd in tovds:\n",
    "            if row[tovd] != nan:\n",
    "                tovd_stats.append([tovd, row[\"КБК\"], row[\"Задание ГОЗ\"], row[\"Наименование закупки\"], row[tovd], row[\"Номер письма\"]])\n",
    "        return tovd_stats\n",
    "    return wrapper"
   ]
  },
  {
   "cell_type": "code",
   "execution_count": 77,
   "id": "8fd1bde2",
   "metadata": {},
   "outputs": [],
   "source": [
    "#Переменная для обновления списка (чтобы не задвоилось/троилось)\n",
    "all_files = []\n",
    "path = 'Original'\n",
    "all_name_files = [f for f in listdir(path) if isfile(join(path, f)) and (f.endswith(\".xls\") or f.endswith(\".xlsx\"))]\n",
    "\n",
    "for name in all_name_files:\n",
    "    source = pd.read_excel(path+\"/\"+name, header=1)\n",
    "    del source[source.columns[-1]]\n",
    "    source = cleaner(source)\n",
    "    source ['Номер письма'] = name\n",
    "    all_files.append(source)"
   ]
  },
  {
   "cell_type": "code",
   "execution_count": 78,
   "id": "400179d8",
   "metadata": {},
   "outputs": [
    {
     "data": {
      "text/html": [
       "<div>\n",
       "<style scoped>\n",
       "    .dataframe tbody tr th:only-of-type {\n",
       "        vertical-align: middle;\n",
       "    }\n",
       "\n",
       "    .dataframe tbody tr th {\n",
       "        vertical-align: top;\n",
       "    }\n",
       "\n",
       "    .dataframe thead th {\n",
       "        text-align: right;\n",
       "    }\n",
       "</style>\n",
       "<table border=\"1\" class=\"dataframe\">\n",
       "  <thead>\n",
       "    <tr style=\"text-align: right;\">\n",
       "      <th></th>\n",
       "      <th>Задание ГОЗ</th>\n",
       "      <th>Наименование закупки</th>\n",
       "      <th>КБК</th>\n",
       "      <th>УМВД России по Хабаровскому краю</th>\n",
       "      <th>Номер письма</th>\n",
       "    </tr>\n",
       "  </thead>\n",
       "  <tbody>\n",
       "    <tr>\n",
       "      <th>2</th>\n",
       "      <td>Средства связи, организационной и вычислительн...</td>\n",
       "      <td>24 накопителя информации для оснащения серверн...</td>\n",
       "      <td>0302 0830292019 211</td>\n",
       "      <td>2095200.0</td>\n",
       "      <td>БН2.xlsx</td>\n",
       "    </tr>\n",
       "  </tbody>\n",
       "</table>\n",
       "</div>"
      ],
      "text/plain": [
       "                                         Задание ГОЗ  \\\n",
       "2  Средства связи, организационной и вычислительн...   \n",
       "\n",
       "                                Наименование закупки                  КБК  \\\n",
       "2  24 накопителя информации для оснащения серверн...  0302 0830292019 211   \n",
       "\n",
       "   УМВД России по Хабаровскому краю Номер письма  \n",
       "2                         2095200.0     БН2.xlsx  "
      ]
     },
     "metadata": {},
     "output_type": "display_data"
    }
   ],
   "source": [
    "new_all_files=[]\n",
    "\n",
    "for file in all_files:\n",
    "    t=file\n",
    "    tovd=t.columns[3:-1]\n",
    "    t=t.apply(get_tovd_stats(tovd), axis=1)\n",
    "    t = list(chain.from_iterable(t))\n",
    "    new_all_files.append(pd.DataFrame(np.array(t),\n",
    "                                      columns=['Бюджетополучатель', 'КБК', \n",
    "                                               'Задание ГОЗ', 'Наименование закупки', \n",
    "                                               'Сумма (руб)', '№ письма']))\n"
   ]
  },
  {
   "cell_type": "code",
   "execution_count": 79,
   "id": "077c7405",
   "metadata": {},
   "outputs": [
    {
     "name": "stdout",
     "output_type": "stream",
     "text": [
      "6046070111.219999\n"
     ]
    }
   ],
   "source": [
    "new_all_files[0]['Сумма (руб)'] = pd.to_numeric(new_all_files[0]['Сумма (руб)'], errors='coerce')\n",
    "print(new_all_files[0]['Сумма (руб)'].sum())"
   ]
  },
  {
   "cell_type": "code",
   "execution_count": null,
   "id": "9f2b6102",
   "metadata": {},
   "outputs": [],
   "source": []
  }
 ],
 "metadata": {
  "kernelspec": {
   "display_name": "Python 3 (ipykernel)",
   "language": "python",
   "name": "python3"
  },
  "language_info": {
   "codemirror_mode": {
    "name": "ipython",
    "version": 3
   },
   "file_extension": ".py",
   "mimetype": "text/x-python",
   "name": "python",
   "nbconvert_exporter": "python",
   "pygments_lexer": "ipython3",
   "version": "3.9.12"
  }
 },
 "nbformat": 4,
 "nbformat_minor": 5
}
